{
  "cells": [
    {
      "cell_type": "code",
      "execution_count": null,
      "id": "e068db0a-1d81-413f-9dc6-84bdf559b2a0",
      "metadata": {
        "id": "e068db0a-1d81-413f-9dc6-84bdf559b2a0"
      },
      "outputs": [],
      "source": [
        "import tensorflow as tf\n",
        "import matplotlib.pyplot as plt\n",
        "import numpy as np"
      ]
    },
    {
      "cell_type": "code",
      "execution_count": null,
      "id": "a2d66ac3-0c72-45c8-ba72-7b022ff1e2f3",
      "metadata": {
        "id": "a2d66ac3-0c72-45c8-ba72-7b022ff1e2f3",
        "outputId": "0707b57d-153b-48e8-84d3-d6923eb7fbe3"
      },
      "outputs": [
        {
          "data": {
            "text/plain": [
              "'/device:GPU:0'"
            ]
          },
          "execution_count": 3,
          "metadata": {},
          "output_type": "execute_result"
        }
      ],
      "source": [
        "tf.test.gpu_device_name()"
      ]
    },
    {
      "cell_type": "code",
      "execution_count": null,
      "id": "312dbe50-f2d9-4bc8-9612-5e5aa86f10b5",
      "metadata": {
        "id": "312dbe50-f2d9-4bc8-9612-5e5aa86f10b5",
        "outputId": "a03c3416-835c-4991-827f-4e0bcba78380"
      },
      "outputs": [
        {
          "name": "stdout",
          "output_type": "stream",
          "text": [
            "Found 24278 files belonging to 5 classes.\n",
            "Found 5998 files belonging to 5 classes.\n",
            "['angry', 'fearful', 'happy', 'sad', 'surprised']\n"
          ]
        }
      ],
      "source": [
        "image_size = (48, 48)\n",
        "\n",
        "train=tf.keras.utils.image_dataset_from_directory(\"train\", batch_size=32, image_size=image_size,seed=10)\n",
        "test=tf.keras.utils.image_dataset_from_directory(\"test\", batch_size=32, image_size=image_size,seed=10)\n",
        "\n",
        "class_names=train.class_names\n",
        "\n",
        "print(class_names)"
      ]
    },
    {
      "cell_type": "code",
      "execution_count": null,
      "id": "427d2b91-ceab-4c71-af3f-c49029cea860",
      "metadata": {
        "id": "427d2b91-ceab-4c71-af3f-c49029cea860"
      },
      "outputs": [],
      "source": [
        "train_dataset = train.cache().shuffle(1000).prefetch(buffer_size=tf.data.AUTOTUNE)\n",
        "valid_dataset = test.cache().prefetch(buffer_size=tf.data.AUTOTUNE)"
      ]
    },
    {
      "cell_type": "code",
      "execution_count": null,
      "id": "e148cfa3-f1d0-4a11-8144-976e559fe8c7",
      "metadata": {
        "id": "e148cfa3-f1d0-4a11-8144-976e559fe8c7"
      },
      "outputs": [],
      "source": [
        "class Callback(tf.keras.callbacks.Callback):\n",
        "  def on_epoch_end(self, epoch, logs={}):\n",
        "    if(logs.get('val_accuracy')>0.8 and logs.get('accuracy')>0.8):\n",
        "      print(\"\\nvalidation accuracy is > 80%!\")\n",
        "      self.model.stop_training = True\n",
        "\n",
        "callback = Callback()"
      ]
    },
    {
      "cell_type": "code",
      "execution_count": null,
      "id": "3c24272c-195e-42b3-91ff-fde1a932a11c",
      "metadata": {
        "id": "3c24272c-195e-42b3-91ff-fde1a932a11c"
      },
      "outputs": [],
      "source": [
        "def identity_block(x, filter):\n",
        "    x_skip = x\n",
        "\n",
        "    x = tf.keras.layers.Conv2D(filter, (3,3), padding = 'same')(x)\n",
        "    x = tf.keras.layers.BatchNormalization(axis=3)(x)\n",
        "    x = tf.keras.layers.Activation('relu')(x)\n",
        "\n",
        "    x = tf.keras.layers.Conv2D(filter, (3,3), padding = 'same')(x)\n",
        "    x = tf.keras.layers.BatchNormalization(axis=3)(x)\n",
        "\n",
        "    x = tf.keras.layers.Add()([x, x_skip])\n",
        "    x = tf.keras.layers.Activation('relu')(x)\n",
        "    return x"
      ]
    },
    {
      "cell_type": "code",
      "execution_count": null,
      "id": "1492e4ed-21af-419f-8f11-84d1432e6cc7",
      "metadata": {
        "id": "1492e4ed-21af-419f-8f11-84d1432e6cc7"
      },
      "outputs": [],
      "source": [
        "def convolutional_block(x, filter):\n",
        "\n",
        "    x_skip = x\n",
        "\n",
        "    x = tf.keras.layers.Conv2D(filter, (3,3), padding = 'same', strides = (2,2))(x)\n",
        "    x = tf.keras.layers.BatchNormalization(axis=3)(x)\n",
        "    x = tf.keras.layers.Activation('relu')(x)\n",
        "\n",
        "    x = tf.keras.layers.Conv2D(filter, (3,3), padding = 'same')(x)\n",
        "    x = tf.keras.layers.BatchNormalization(axis=3)(x)\n",
        "\n",
        "    x_skip = tf.keras.layers.Conv2D(filter, (1,1), strides = (2,2))(x_skip)\n",
        "\n",
        "    x = tf.keras.layers.Add()([x, x_skip])\n",
        "    x = tf.keras.layers.Activation('relu')(x)\n",
        "    return x"
      ]
    },
    {
      "cell_type": "code",
      "execution_count": null,
      "id": "8fdd5b21-935e-46ec-ad0a-185b48c18ab3",
      "metadata": {
        "id": "8fdd5b21-935e-46ec-ad0a-185b48c18ab3"
      },
      "outputs": [],
      "source": [
        "def ResNet34(shape = (32, 32, 3), classes = 10):\n",
        "\n",
        "    x_input = tf.keras.layers.Input(shape)\n",
        "    x = tf.keras.layers.ZeroPadding2D((3, 3))(x_input)\n",
        "\n",
        "    x = tf.keras.layers.Conv2D(64, kernel_size=7, strides=2, padding='same')(x)\n",
        "    x = tf.keras.layers.BatchNormalization()(x)\n",
        "    x = tf.keras.layers.Activation('relu')(x)\n",
        "    x = tf.keras.layers.MaxPool2D(pool_size=3, strides=2, padding='same')(x)\n",
        "\n",
        "    block_layers = [3, 4, 6, 3]\n",
        "    filter_size = 64\n",
        "\n",
        "    for i in range(4):\n",
        "        if i == 0:\n",
        "            for j in range(block_layers[i]):\n",
        "                x = identity_block(x, filter_size)\n",
        "        else:\n",
        "            filter_size = filter_size*2\n",
        "            x = convolutional_block(x, filter_size)\n",
        "            for j in range(block_layers[i] - 1):\n",
        "                x = identity_block(x, filter_size)\n",
        "\n",
        "    x = tf.keras.layers.AveragePooling2D((2,2), padding = 'same')(x)\n",
        "    x = tf.keras.layers.Flatten()(x)\n",
        "    x = tf.keras.layers.Dense(2048, activation = 'relu')(x)\n",
        "    x = tf.keras.layers.Dropout(0.5)(x)\n",
        "    x = tf.keras.layers.BatchNormalization()(x)\n",
        "    x = tf.keras.layers.Dense(1024, activation = 'relu')(x)\n",
        "    x = tf.keras.layers.Dropout(0.5)(x)\n",
        "    x = tf.keras.layers.BatchNormalization()(x)\n",
        "    x = tf.keras.layers.Dense(classes, activation = 'softmax')(x)\n",
        "    model = tf.keras.models.Model(inputs = x_input, outputs = x, name = \"ResNet34\")\n",
        "    return model"
      ]
    },
    {
      "cell_type": "code",
      "execution_count": null,
      "id": "2370c78d-825e-4500-8854-8a3a9fff31b6",
      "metadata": {
        "id": "2370c78d-825e-4500-8854-8a3a9fff31b6"
      },
      "outputs": [],
      "source": [
        "X_SIZE = image_size[0]\n",
        "Y_SIZE = image_size[1]\n",
        "NUM_OF_CLASSES = len(class_names)\n",
        "\n",
        "callback2 = tf.keras.callbacks.EarlyStopping(monitor='val_loss', patience=3)\n",
        "\n",
        "model = ResNet34(shape=(X_SIZE, Y_SIZE, 3), classes = NUM_OF_CLASSES)\n",
        "\n",
        "model.compile( loss=tf.keras.losses.SparseCategoricalCrossentropy(from_logits=False),\n",
        "                optimizer=tf.keras.optimizers.Adam(0.001),\n",
        "                metrics=['accuracy'])"
      ]
    },
    {
      "cell_type": "code",
      "execution_count": null,
      "id": "7683240d-19e7-4883-bf3f-d36f67adcfb6",
      "metadata": {
        "id": "7683240d-19e7-4883-bf3f-d36f67adcfb6",
        "outputId": "621cbc1d-793e-4a1f-d066-daef4830b67d"
      },
      "outputs": [
        {
          "name": "stdout",
          "output_type": "stream",
          "text": [
            "Model: \"ResNet34\"\n",
            "__________________________________________________________________________________________________\n",
            " Layer (type)                   Output Shape         Param #     Connected to                     \n",
            "==================================================================================================\n",
            " input_1 (InputLayer)           [(None, 48, 48, 3)]  0           []                               \n",
            "                                                                                                  \n",
            " zero_padding2d (ZeroPadding2D)  (None, 54, 54, 3)   0           ['input_1[0][0]']                \n",
            "                                                                                                  \n",
            " conv2d (Conv2D)                (None, 27, 27, 64)   9472        ['zero_padding2d[0][0]']         \n",
            "                                                                                                  \n",
            " batch_normalization (BatchNorm  (None, 27, 27, 64)  256         ['conv2d[0][0]']                 \n",
            " alization)                                                                                       \n",
            "                                                                                                  \n",
            " activation (Activation)        (None, 27, 27, 64)   0           ['batch_normalization[0][0]']    \n",
            "                                                                                                  \n",
            " max_pooling2d (MaxPooling2D)   (None, 14, 14, 64)   0           ['activation[0][0]']             \n",
            "                                                                                                  \n",
            " conv2d_1 (Conv2D)              (None, 14, 14, 64)   36928       ['max_pooling2d[0][0]']          \n",
            "                                                                                                  \n",
            " batch_normalization_1 (BatchNo  (None, 14, 14, 64)  256         ['conv2d_1[0][0]']               \n",
            " rmalization)                                                                                     \n",
            "                                                                                                  \n",
            " activation_1 (Activation)      (None, 14, 14, 64)   0           ['batch_normalization_1[0][0]']  \n",
            "                                                                                                  \n",
            " conv2d_2 (Conv2D)              (None, 14, 14, 64)   36928       ['activation_1[0][0]']           \n",
            "                                                                                                  \n",
            " batch_normalization_2 (BatchNo  (None, 14, 14, 64)  256         ['conv2d_2[0][0]']               \n",
            " rmalization)                                                                                     \n",
            "                                                                                                  \n",
            " add (Add)                      (None, 14, 14, 64)   0           ['batch_normalization_2[0][0]',  \n",
            "                                                                  'max_pooling2d[0][0]']          \n",
            "                                                                                                  \n",
            " activation_2 (Activation)      (None, 14, 14, 64)   0           ['add[0][0]']                    \n",
            "                                                                                                  \n",
            " conv2d_3 (Conv2D)              (None, 14, 14, 64)   36928       ['activation_2[0][0]']           \n",
            "                                                                                                  \n",
            " batch_normalization_3 (BatchNo  (None, 14, 14, 64)  256         ['conv2d_3[0][0]']               \n",
            " rmalization)                                                                                     \n",
            "                                                                                                  \n",
            " activation_3 (Activation)      (None, 14, 14, 64)   0           ['batch_normalization_3[0][0]']  \n",
            "                                                                                                  \n",
            " conv2d_4 (Conv2D)              (None, 14, 14, 64)   36928       ['activation_3[0][0]']           \n",
            "                                                                                                  \n",
            " batch_normalization_4 (BatchNo  (None, 14, 14, 64)  256         ['conv2d_4[0][0]']               \n",
            " rmalization)                                                                                     \n",
            "                                                                                                  \n",
            " add_1 (Add)                    (None, 14, 14, 64)   0           ['batch_normalization_4[0][0]',  \n",
            "                                                                  'activation_2[0][0]']           \n",
            "                                                                                                  \n",
            " activation_4 (Activation)      (None, 14, 14, 64)   0           ['add_1[0][0]']                  \n",
            "                                                                                                  \n",
            " conv2d_5 (Conv2D)              (None, 14, 14, 64)   36928       ['activation_4[0][0]']           \n",
            "                                                                                                  \n",
            " batch_normalization_5 (BatchNo  (None, 14, 14, 64)  256         ['conv2d_5[0][0]']               \n",
            " rmalization)                                                                                     \n",
            "                                                                                                  \n",
            " activation_5 (Activation)      (None, 14, 14, 64)   0           ['batch_normalization_5[0][0]']  \n",
            "                                                                                                  \n",
            " conv2d_6 (Conv2D)              (None, 14, 14, 64)   36928       ['activation_5[0][0]']           \n",
            "                                                                                                  \n",
            " batch_normalization_6 (BatchNo  (None, 14, 14, 64)  256         ['conv2d_6[0][0]']               \n",
            " rmalization)                                                                                     \n",
            "                                                                                                  \n",
            " add_2 (Add)                    (None, 14, 14, 64)   0           ['batch_normalization_6[0][0]',  \n",
            "                                                                  'activation_4[0][0]']           \n",
            "                                                                                                  \n",
            " activation_6 (Activation)      (None, 14, 14, 64)   0           ['add_2[0][0]']                  \n",
            "                                                                                                  \n",
            " conv2d_7 (Conv2D)              (None, 7, 7, 128)    73856       ['activation_6[0][0]']           \n",
            "                                                                                                  \n",
            " batch_normalization_7 (BatchNo  (None, 7, 7, 128)   512         ['conv2d_7[0][0]']               \n",
            " rmalization)                                                                                     \n",
            "                                                                                                  \n",
            " activation_7 (Activation)      (None, 7, 7, 128)    0           ['batch_normalization_7[0][0]']  \n",
            "                                                                                                  \n",
            " conv2d_8 (Conv2D)              (None, 7, 7, 128)    147584      ['activation_7[0][0]']           \n",
            "                                                                                                  \n",
            " batch_normalization_8 (BatchNo  (None, 7, 7, 128)   512         ['conv2d_8[0][0]']               \n",
            " rmalization)                                                                                     \n",
            "                                                                                                  \n",
            " conv2d_9 (Conv2D)              (None, 7, 7, 128)    8320        ['activation_6[0][0]']           \n",
            "                                                                                                  \n",
            " add_3 (Add)                    (None, 7, 7, 128)    0           ['batch_normalization_8[0][0]',  \n",
            "                                                                  'conv2d_9[0][0]']               \n",
            "                                                                                                  \n",
            " activation_8 (Activation)      (None, 7, 7, 128)    0           ['add_3[0][0]']                  \n",
            "                                                                                                  \n",
            " conv2d_10 (Conv2D)             (None, 7, 7, 128)    147584      ['activation_8[0][0]']           \n",
            "                                                                                                  \n",
            " batch_normalization_9 (BatchNo  (None, 7, 7, 128)   512         ['conv2d_10[0][0]']              \n",
            " rmalization)                                                                                     \n",
            "                                                                                                  \n",
            " activation_9 (Activation)      (None, 7, 7, 128)    0           ['batch_normalization_9[0][0]']  \n",
            "                                                                                                  \n",
            " conv2d_11 (Conv2D)             (None, 7, 7, 128)    147584      ['activation_9[0][0]']           \n",
            "                                                                                                  \n",
            " batch_normalization_10 (BatchN  (None, 7, 7, 128)   512         ['conv2d_11[0][0]']              \n",
            " ormalization)                                                                                    \n",
            "                                                                                                  \n",
            " add_4 (Add)                    (None, 7, 7, 128)    0           ['batch_normalization_10[0][0]', \n",
            "                                                                  'activation_8[0][0]']           \n",
            "                                                                                                  \n",
            " activation_10 (Activation)     (None, 7, 7, 128)    0           ['add_4[0][0]']                  \n",
            "                                                                                                  \n",
            " conv2d_12 (Conv2D)             (None, 7, 7, 128)    147584      ['activation_10[0][0]']          \n",
            "                                                                                                  \n",
            " batch_normalization_11 (BatchN  (None, 7, 7, 128)   512         ['conv2d_12[0][0]']              \n",
            " ormalization)                                                                                    \n",
            "                                                                                                  \n",
            " activation_11 (Activation)     (None, 7, 7, 128)    0           ['batch_normalization_11[0][0]'] \n",
            "                                                                                                  \n",
            " conv2d_13 (Conv2D)             (None, 7, 7, 128)    147584      ['activation_11[0][0]']          \n",
            "                                                                                                  \n",
            " batch_normalization_12 (BatchN  (None, 7, 7, 128)   512         ['conv2d_13[0][0]']              \n",
            " ormalization)                                                                                    \n",
            "                                                                                                  \n",
            " add_5 (Add)                    (None, 7, 7, 128)    0           ['batch_normalization_12[0][0]', \n",
            "                                                                  'activation_10[0][0]']          \n",
            "                                                                                                  \n",
            " activation_12 (Activation)     (None, 7, 7, 128)    0           ['add_5[0][0]']                  \n",
            "                                                                                                  \n",
            " conv2d_14 (Conv2D)             (None, 7, 7, 128)    147584      ['activation_12[0][0]']          \n",
            "                                                                                                  \n",
            " batch_normalization_13 (BatchN  (None, 7, 7, 128)   512         ['conv2d_14[0][0]']              \n",
            " ormalization)                                                                                    \n",
            "                                                                                                  \n",
            " activation_13 (Activation)     (None, 7, 7, 128)    0           ['batch_normalization_13[0][0]'] \n",
            "                                                                                                  \n",
            " conv2d_15 (Conv2D)             (None, 7, 7, 128)    147584      ['activation_13[0][0]']          \n",
            "                                                                                                  \n",
            " batch_normalization_14 (BatchN  (None, 7, 7, 128)   512         ['conv2d_15[0][0]']              \n",
            " ormalization)                                                                                    \n",
            "                                                                                                  \n",
            " add_6 (Add)                    (None, 7, 7, 128)    0           ['batch_normalization_14[0][0]', \n",
            "                                                                  'activation_12[0][0]']          \n",
            "                                                                                                  \n",
            " activation_14 (Activation)     (None, 7, 7, 128)    0           ['add_6[0][0]']                  \n",
            "                                                                                                  \n",
            " conv2d_16 (Conv2D)             (None, 4, 4, 256)    295168      ['activation_14[0][0]']          \n",
            "                                                                                                  \n",
            " batch_normalization_15 (BatchN  (None, 4, 4, 256)   1024        ['conv2d_16[0][0]']              \n",
            " ormalization)                                                                                    \n",
            "                                                                                                  \n",
            " activation_15 (Activation)     (None, 4, 4, 256)    0           ['batch_normalization_15[0][0]'] \n",
            "                                                                                                  \n",
            " conv2d_17 (Conv2D)             (None, 4, 4, 256)    590080      ['activation_15[0][0]']          \n",
            "                                                                                                  \n",
            " batch_normalization_16 (BatchN  (None, 4, 4, 256)   1024        ['conv2d_17[0][0]']              \n",
            " ormalization)                                                                                    \n",
            "                                                                                                  \n",
            " conv2d_18 (Conv2D)             (None, 4, 4, 256)    33024       ['activation_14[0][0]']          \n",
            "                                                                                                  \n",
            " add_7 (Add)                    (None, 4, 4, 256)    0           ['batch_normalization_16[0][0]', \n",
            "                                                                  'conv2d_18[0][0]']              \n",
            "                                                                                                  \n",
            " activation_16 (Activation)     (None, 4, 4, 256)    0           ['add_7[0][0]']                  \n",
            "                                                                                                  \n",
            " conv2d_19 (Conv2D)             (None, 4, 4, 256)    590080      ['activation_16[0][0]']          \n",
            "                                                                                                  \n",
            " batch_normalization_17 (BatchN  (None, 4, 4, 256)   1024        ['conv2d_19[0][0]']              \n",
            " ormalization)                                                                                    \n",
            "                                                                                                  \n",
            " activation_17 (Activation)     (None, 4, 4, 256)    0           ['batch_normalization_17[0][0]'] \n",
            "                                                                                                  \n",
            " conv2d_20 (Conv2D)             (None, 4, 4, 256)    590080      ['activation_17[0][0]']          \n",
            "                                                                                                  \n",
            " batch_normalization_18 (BatchN  (None, 4, 4, 256)   1024        ['conv2d_20[0][0]']              \n",
            " ormalization)                                                                                    \n",
            "                                                                                                  \n",
            " add_8 (Add)                    (None, 4, 4, 256)    0           ['batch_normalization_18[0][0]', \n",
            "                                                                  'activation_16[0][0]']          \n",
            "                                                                                                  \n",
            " activation_18 (Activation)     (None, 4, 4, 256)    0           ['add_8[0][0]']                  \n",
            "                                                                                                  \n",
            " conv2d_21 (Conv2D)             (None, 4, 4, 256)    590080      ['activation_18[0][0]']          \n",
            "                                                                                                  \n",
            " batch_normalization_19 (BatchN  (None, 4, 4, 256)   1024        ['conv2d_21[0][0]']              \n",
            " ormalization)                                                                                    \n",
            "                                                                                                  \n",
            " activation_19 (Activation)     (None, 4, 4, 256)    0           ['batch_normalization_19[0][0]'] \n",
            "                                                                                                  \n",
            " conv2d_22 (Conv2D)             (None, 4, 4, 256)    590080      ['activation_19[0][0]']          \n",
            "                                                                                                  \n",
            " batch_normalization_20 (BatchN  (None, 4, 4, 256)   1024        ['conv2d_22[0][0]']              \n",
            " ormalization)                                                                                    \n",
            "                                                                                                  \n",
            " add_9 (Add)                    (None, 4, 4, 256)    0           ['batch_normalization_20[0][0]', \n",
            "                                                                  'activation_18[0][0]']          \n",
            "                                                                                                  \n",
            " activation_20 (Activation)     (None, 4, 4, 256)    0           ['add_9[0][0]']                  \n",
            "                                                                                                  \n",
            " conv2d_23 (Conv2D)             (None, 4, 4, 256)    590080      ['activation_20[0][0]']          \n",
            "                                                                                                  \n",
            " batch_normalization_21 (BatchN  (None, 4, 4, 256)   1024        ['conv2d_23[0][0]']              \n",
            " ormalization)                                                                                    \n",
            "                                                                                                  \n",
            " activation_21 (Activation)     (None, 4, 4, 256)    0           ['batch_normalization_21[0][0]'] \n",
            "                                                                                                  \n",
            " conv2d_24 (Conv2D)             (None, 4, 4, 256)    590080      ['activation_21[0][0]']          \n",
            "                                                                                                  \n",
            " batch_normalization_22 (BatchN  (None, 4, 4, 256)   1024        ['conv2d_24[0][0]']              \n",
            " ormalization)                                                                                    \n",
            "                                                                                                  \n",
            " add_10 (Add)                   (None, 4, 4, 256)    0           ['batch_normalization_22[0][0]', \n",
            "                                                                  'activation_20[0][0]']          \n",
            "                                                                                                  \n",
            " activation_22 (Activation)     (None, 4, 4, 256)    0           ['add_10[0][0]']                 \n",
            "                                                                                                  \n",
            " conv2d_25 (Conv2D)             (None, 4, 4, 256)    590080      ['activation_22[0][0]']          \n",
            "                                                                                                  \n",
            " batch_normalization_23 (BatchN  (None, 4, 4, 256)   1024        ['conv2d_25[0][0]']              \n",
            " ormalization)                                                                                    \n",
            "                                                                                                  \n",
            " activation_23 (Activation)     (None, 4, 4, 256)    0           ['batch_normalization_23[0][0]'] \n",
            "                                                                                                  \n",
            " conv2d_26 (Conv2D)             (None, 4, 4, 256)    590080      ['activation_23[0][0]']          \n",
            "                                                                                                  \n",
            " batch_normalization_24 (BatchN  (None, 4, 4, 256)   1024        ['conv2d_26[0][0]']              \n",
            " ormalization)                                                                                    \n",
            "                                                                                                  \n",
            " add_11 (Add)                   (None, 4, 4, 256)    0           ['batch_normalization_24[0][0]', \n",
            "                                                                  'activation_22[0][0]']          \n",
            "                                                                                                  \n",
            " activation_24 (Activation)     (None, 4, 4, 256)    0           ['add_11[0][0]']                 \n",
            "                                                                                                  \n",
            " conv2d_27 (Conv2D)             (None, 4, 4, 256)    590080      ['activation_24[0][0]']          \n",
            "                                                                                                  \n",
            " batch_normalization_25 (BatchN  (None, 4, 4, 256)   1024        ['conv2d_27[0][0]']              \n",
            " ormalization)                                                                                    \n",
            "                                                                                                  \n",
            " activation_25 (Activation)     (None, 4, 4, 256)    0           ['batch_normalization_25[0][0]'] \n",
            "                                                                                                  \n",
            " conv2d_28 (Conv2D)             (None, 4, 4, 256)    590080      ['activation_25[0][0]']          \n",
            "                                                                                                  \n",
            " batch_normalization_26 (BatchN  (None, 4, 4, 256)   1024        ['conv2d_28[0][0]']              \n",
            " ormalization)                                                                                    \n",
            "                                                                                                  \n",
            " add_12 (Add)                   (None, 4, 4, 256)    0           ['batch_normalization_26[0][0]', \n",
            "                                                                  'activation_24[0][0]']          \n",
            "                                                                                                  \n",
            " activation_26 (Activation)     (None, 4, 4, 256)    0           ['add_12[0][0]']                 \n",
            "                                                                                                  \n",
            " conv2d_29 (Conv2D)             (None, 2, 2, 512)    1180160     ['activation_26[0][0]']          \n",
            "                                                                                                  \n",
            " batch_normalization_27 (BatchN  (None, 2, 2, 512)   2048        ['conv2d_29[0][0]']              \n",
            " ormalization)                                                                                    \n",
            "                                                                                                  \n",
            " activation_27 (Activation)     (None, 2, 2, 512)    0           ['batch_normalization_27[0][0]'] \n",
            "                                                                                                  \n",
            " conv2d_30 (Conv2D)             (None, 2, 2, 512)    2359808     ['activation_27[0][0]']          \n",
            "                                                                                                  \n",
            " batch_normalization_28 (BatchN  (None, 2, 2, 512)   2048        ['conv2d_30[0][0]']              \n",
            " ormalization)                                                                                    \n",
            "                                                                                                  \n",
            " conv2d_31 (Conv2D)             (None, 2, 2, 512)    131584      ['activation_26[0][0]']          \n",
            "                                                                                                  \n",
            " add_13 (Add)                   (None, 2, 2, 512)    0           ['batch_normalization_28[0][0]', \n",
            "                                                                  'conv2d_31[0][0]']              \n",
            "                                                                                                  \n",
            " activation_28 (Activation)     (None, 2, 2, 512)    0           ['add_13[0][0]']                 \n",
            "                                                                                                  \n",
            " conv2d_32 (Conv2D)             (None, 2, 2, 512)    2359808     ['activation_28[0][0]']          \n",
            "                                                                                                  \n",
            " batch_normalization_29 (BatchN  (None, 2, 2, 512)   2048        ['conv2d_32[0][0]']              \n",
            " ormalization)                                                                                    \n",
            "                                                                                                  \n",
            " activation_29 (Activation)     (None, 2, 2, 512)    0           ['batch_normalization_29[0][0]'] \n",
            "                                                                                                  \n",
            " conv2d_33 (Conv2D)             (None, 2, 2, 512)    2359808     ['activation_29[0][0]']          \n",
            "                                                                                                  \n",
            " batch_normalization_30 (BatchN  (None, 2, 2, 512)   2048        ['conv2d_33[0][0]']              \n",
            " ormalization)                                                                                    \n",
            "                                                                                                  \n",
            " add_14 (Add)                   (None, 2, 2, 512)    0           ['batch_normalization_30[0][0]', \n",
            "                                                                  'activation_28[0][0]']          \n",
            "                                                                                                  \n",
            " activation_30 (Activation)     (None, 2, 2, 512)    0           ['add_14[0][0]']                 \n",
            "                                                                                                  \n",
            " conv2d_34 (Conv2D)             (None, 2, 2, 512)    2359808     ['activation_30[0][0]']          \n",
            "                                                                                                  \n",
            " batch_normalization_31 (BatchN  (None, 2, 2, 512)   2048        ['conv2d_34[0][0]']              \n",
            " ormalization)                                                                                    \n",
            "                                                                                                  \n",
            " activation_31 (Activation)     (None, 2, 2, 512)    0           ['batch_normalization_31[0][0]'] \n",
            "                                                                                                  \n",
            " conv2d_35 (Conv2D)             (None, 2, 2, 512)    2359808     ['activation_31[0][0]']          \n",
            "                                                                                                  \n",
            " batch_normalization_32 (BatchN  (None, 2, 2, 512)   2048        ['conv2d_35[0][0]']              \n",
            " ormalization)                                                                                    \n",
            "                                                                                                  \n",
            " add_15 (Add)                   (None, 2, 2, 512)    0           ['batch_normalization_32[0][0]', \n",
            "                                                                  'activation_30[0][0]']          \n",
            "                                                                                                  \n",
            " activation_32 (Activation)     (None, 2, 2, 512)    0           ['add_15[0][0]']                 \n",
            "                                                                                                  \n",
            " average_pooling2d (AveragePool  (None, 1, 1, 512)   0           ['activation_32[0][0]']          \n",
            " ing2D)                                                                                           \n",
            "                                                                                                  \n",
            " flatten (Flatten)              (None, 512)          0           ['average_pooling2d[0][0]']      \n",
            "                                                                                                  \n",
            " dense (Dense)                  (None, 2048)         1050624     ['flatten[0][0]']                \n",
            "                                                                                                  \n",
            " dropout (Dropout)              (None, 2048)         0           ['dense[0][0]']                  \n",
            "                                                                                                  \n",
            " batch_normalization_33 (BatchN  (None, 2048)        8192        ['dropout[0][0]']                \n",
            " ormalization)                                                                                    \n",
            "                                                                                                  \n",
            " dense_1 (Dense)                (None, 1024)         2098176     ['batch_normalization_33[0][0]'] \n",
            "                                                                                                  \n",
            " dropout_1 (Dropout)            (None, 1024)         0           ['dense_1[0][0]']                \n",
            "                                                                                                  \n",
            " batch_normalization_34 (BatchN  (None, 1024)        4096        ['dropout_1[0][0]']              \n",
            " ormalization)                                                                                    \n",
            "                                                                                                  \n",
            " dense_2 (Dense)                (None, 5)            5125        ['batch_normalization_34[0][0]'] \n",
            "                                                                                                  \n",
            "==================================================================================================\n",
            "Total params: 24,472,837\n",
            "Trainable params: 24,451,461\n",
            "Non-trainable params: 21,376\n",
            "__________________________________________________________________________________________________\n"
          ]
        }
      ],
      "source": [
        "model.summary()"
      ]
    },
    {
      "cell_type": "code",
      "execution_count": null,
      "id": "8e4e32df-62d1-49db-bc71-a747d4da233f",
      "metadata": {
        "id": "8e4e32df-62d1-49db-bc71-a747d4da233f",
        "outputId": "c6a3b906-0d0d-4e00-ac40-0c9cbff06ca2"
      },
      "outputs": [
        {
          "name": "stdout",
          "output_type": "stream",
          "text": [
            "Epoch 1/100\n",
            "759/759 [==============================] - 29s 34ms/step - loss: 1.8211 - accuracy: 0.2512 - val_loss: 10.7777 - val_accuracy: 0.2609\n",
            "Epoch 2/100\n",
            "759/759 [==============================] - 25s 33ms/step - loss: 1.5125 - accuracy: 0.3489 - val_loss: 1.8289 - val_accuracy: 0.3786\n",
            "Epoch 3/100\n",
            "759/759 [==============================] - 25s 33ms/step - loss: 1.3778 - accuracy: 0.4114 - val_loss: 1.3892 - val_accuracy: 0.3875\n",
            "Epoch 4/100\n",
            "759/759 [==============================] - 25s 34ms/step - loss: 1.2857 - accuracy: 0.4511 - val_loss: 1.4662 - val_accuracy: 0.3433\n",
            "Epoch 5/100\n",
            "759/759 [==============================] - 25s 33ms/step - loss: 1.2210 - accuracy: 0.4744 - val_loss: 1.2485 - val_accuracy: 0.4753\n",
            "Epoch 6/100\n",
            "759/759 [==============================] - 25s 33ms/step - loss: 1.1742 - accuracy: 0.4964 - val_loss: 1.6356 - val_accuracy: 0.3366\n",
            "Epoch 7/100\n",
            "759/759 [==============================] - 25s 33ms/step - loss: 1.1228 - accuracy: 0.5145 - val_loss: 1.1776 - val_accuracy: 0.4912\n",
            "Epoch 8/100\n",
            "759/759 [==============================] - 25s 33ms/step - loss: 1.0974 - accuracy: 0.5208 - val_loss: 1.1854 - val_accuracy: 0.4845\n",
            "Epoch 9/100\n",
            "759/759 [==============================] - 25s 34ms/step - loss: 1.0682 - accuracy: 0.5387 - val_loss: 1.2791 - val_accuracy: 0.4423\n",
            "Epoch 10/100\n",
            "759/759 [==============================] - 26s 34ms/step - loss: 1.0578 - accuracy: 0.5456 - val_loss: 1.0754 - val_accuracy: 0.5485\n",
            "Epoch 11/100\n",
            "759/759 [==============================] - 26s 34ms/step - loss: 0.9931 - accuracy: 0.5689 - val_loss: 1.1365 - val_accuracy: 0.5142\n",
            "Epoch 12/100\n",
            "759/759 [==============================] - 26s 34ms/step - loss: 0.9520 - accuracy: 0.6015 - val_loss: 1.0250 - val_accuracy: 0.5767\n",
            "Epoch 13/100\n",
            "759/759 [==============================] - 26s 34ms/step - loss: 0.8966 - accuracy: 0.6302 - val_loss: 1.0908 - val_accuracy: 0.5790\n",
            "Epoch 14/100\n",
            "759/759 [==============================] - 25s 33ms/step - loss: 0.8459 - accuracy: 0.6556 - val_loss: 1.1660 - val_accuracy: 0.5622\n",
            "Epoch 15/100\n",
            "759/759 [==============================] - 25s 34ms/step - loss: 0.7523 - accuracy: 0.7044 - val_loss: 1.0720 - val_accuracy: 0.6005\n"
          ]
        }
      ],
      "source": [
        "history = model.fit(train_dataset,batch_size = 10, epochs=100, validation_data=valid_dataset, callbacks=[callback, callback2])"
      ]
    },
    {
      "cell_type": "code",
      "execution_count": null,
      "id": "897cb786-42d4-483a-9c7c-5858bb5d540a",
      "metadata": {
        "id": "897cb786-42d4-483a-9c7c-5858bb5d540a",
        "outputId": "49d6356e-c453-4ca9-bbe2-f2177fb6fc69"
      },
      "outputs": [
        {
          "data": {
            "image/png": "[encoded data removed]",
            "text/plain": [
              "<Figure size 720x360 with 1 Axes>"
            ]
          },
          "metadata": {
            "needs_background": "light"
          },
          "output_type": "display_data"
        }
      ],
      "source": [
        "plt.figure(figsize=(10, 5))\n",
        "plt.plot(history.history['loss'], label = \"training loss\")\n",
        "plt.plot(history.history['val_loss'], label = \"validation loss\")\n",
        "plt.title('Model loss')\n",
        "plt.ylabel('Loss')\n",
        "plt.xlabel('Epoch')\n",
        "plt.xticks(np.arange(len(history.history['accuracy'])), np.arange(1, len(history.history['accuracy'])+1))\n",
        "plt.legend()\n",
        "plt.show()"
      ]
    },
    {
      "cell_type": "code",
      "execution_count": null,
      "id": "b984e04a-a3ea-4406-89e2-6a0eb8462951",
      "metadata": {
        "id": "b984e04a-a3ea-4406-89e2-6a0eb8462951",
        "outputId": "e866f4d2-c3d9-4948-844b-8371fb9911a2"
      },
      "outputs": [
        {
          "data": {
            "image/png": "[encoded data removed]",
            "text/plain": [
              "<Figure size 720x360 with 1 Axes>"
            ]
          },
          "metadata": {
            "needs_background": "light"
          },
          "output_type": "display_data"
        }
      ],
      "source": [
        "plt.figure(figsize=(10, 5))\n",
        "plt.plot(history.history['accuracy'], label = \"training accuracy\")\n",
        "plt.plot(history.history['val_accuracy'], label = \"validation accuracy\")\n",
        "plt.title('Model accuracy')\n",
        "plt.ylabel('Accuracy')\n",
        "plt.xlabel('Epoch')\n",
        "plt.xticks(np.arange(len(history.history['accuracy'])), np.arange(1, len(history.history['accuracy'])+1))\n",
        "plt.legend()\n",
        "plt.show()"
      ]
    },
    {
      "cell_type": "code",
      "execution_count": null,
      "id": "a1b4749e-7293-40b2-8b95-6b48ede8621a",
      "metadata": {
        "id": "a1b4749e-7293-40b2-8b95-6b48ede8621a"
      },
      "outputs": [],
      "source": []
    }
  ],
  "metadata": {
    "kernelspec": {
      "display_name": "gpu2",
      "language": "python",
      "name": "gpu2"
    },
    "language_info": {
      "codemirror_mode": {
        "name": "ipython",
        "version": 3
      },
      "file_extension": ".py",
      "mimetype": "text/x-python",
      "name": "python",
      "nbconvert_exporter": "python",
      "pygments_lexer": "ipython3",
      "version": "3.10.8"
    },
    "colab": {
      "provenance": []
    }
  },
  "nbformat": 4,
  "nbformat_minor": 5
}