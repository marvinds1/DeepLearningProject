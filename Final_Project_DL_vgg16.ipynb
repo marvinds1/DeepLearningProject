{
  "cells": [
    {
      "cell_type": "code",
      "execution_count": null,
      "id": "2b43f950-bd33-429a-8244-0cf6fa3aa7ae",
      "metadata": {
        "id": "2b43f950-bd33-429a-8244-0cf6fa3aa7ae"
      },
      "outputs": [],
      "source": [
        "import tensorflow as tf\n",
        "import matplotlib.pyplot as plt\n",
        "import numpy as np"
      ]
    },
    {
      "cell_type": "code",
      "execution_count": null,
      "id": "ae86b2d5-4509-4769-b44b-26817262a828",
      "metadata": {
        "id": "ae86b2d5-4509-4769-b44b-26817262a828",
        "outputId": "e83af84b-b074-4dcc-dc82-5143e77daffb"
      },
      "outputs": [
        {
          "data": {
            "text/plain": [
              "'/device:GPU:0'"
            ]
          },
          "execution_count": 3,
          "metadata": {},
          "output_type": "execute_result"
        }
      ],
      "source": [
        "tf.test.gpu_device_name()"
      ]
    },
    {
      "cell_type": "code",
      "execution_count": null,
      "id": "afcf3752-0e1c-4593-bf09-ee0912a673bf",
      "metadata": {
        "id": "afcf3752-0e1c-4593-bf09-ee0912a673bf",
        "outputId": "01acc8c3-2c18-4e5e-b752-d4d53127afb0"
      },
      "outputs": [
        {
          "name": "stdout",
          "output_type": "stream",
          "text": [
            "Found 24278 files belonging to 5 classes.\n",
            "Found 5998 files belonging to 5 classes.\n",
            "['angry', 'fearful', 'happy', 'sad', 'surprised']\n"
          ]
        }
      ],
      "source": [
        "image_size = (48, 48)\n",
        "\n",
        "train=tf.keras.utils.image_dataset_from_directory(\"train\", batch_size=32, image_size=image_size,seed=10)\n",
        "test=tf.keras.utils.image_dataset_from_directory(\"test\", batch_size=32, image_size=image_size,seed=10)\n",
        "\n",
        "class_names=train.class_names\n",
        "\n",
        "print(class_names)"
      ]
    },
    {
      "cell_type": "code",
      "execution_count": null,
      "id": "253de75c-c973-4890-9ed8-03e6cf1b2686",
      "metadata": {
        "id": "253de75c-c973-4890-9ed8-03e6cf1b2686"
      },
      "outputs": [],
      "source": [
        "train_dataset = train.cache().shuffle(1000).prefetch(buffer_size=tf.data.AUTOTUNE)\n",
        "valid_dataset = test.cache().prefetch(buffer_size=tf.data.AUTOTUNE)"
      ]
    },
    {
      "cell_type": "code",
      "execution_count": null,
      "id": "de047a62-23bc-4531-9a11-65e5030d40d1",
      "metadata": {
        "id": "de047a62-23bc-4531-9a11-65e5030d40d1"
      },
      "outputs": [],
      "source": [
        "class Callback(tf.keras.callbacks.Callback):\n",
        "  def on_epoch_end(self, epoch, logs={}):\n",
        "    if(logs.get('val_accuracy')>0.8 and logs.get('accuracy')>0.8):\n",
        "      print(\"\\nvalidation accuracy is > 80%!\")\n",
        "      self.model.stop_training = True\n",
        "\n",
        "callback = Callback()"
      ]
    },
    {
      "cell_type": "code",
      "execution_count": null,
      "id": "1e8618d4-1e0e-4a74-b5a7-90d6e1d50c47",
      "metadata": {
        "id": "1e8618d4-1e0e-4a74-b5a7-90d6e1d50c47"
      },
      "outputs": [],
      "source": [
        "X_SIZE = image_size[0]\n",
        "Y_SIZE = image_size[1]\n",
        "NUM_OF_CLASSES = len(class_names)\n",
        "\n",
        "callback2 = tf.keras.callbacks.EarlyStopping(monitor='val_loss', patience=3)\n",
        "\n",
        "model = tf.keras.models.Sequential([\n",
        "     tf.keras.applications.vgg16.VGG16(include_top=False, pooling='max', weights=\"imagenet\", input_shape= (X_SIZE,Y_SIZE,3)),\n",
        "    tf.keras.layers.Flatten(),\n",
        "    tf.keras.layers.Dense(2048, activation='relu'),\n",
        "    tf.keras.layers.Dropout(0.5),\n",
        "    tf.keras.layers.BatchNormalization(),\n",
        "    tf.keras.layers.Dense(1024, activation='relu'),\n",
        "    tf.keras.layers.Dropout(0.5),\n",
        "    tf.keras.layers.BatchNormalization(),\n",
        "    tf.keras.layers.Dense(NUM_OF_CLASSES, activation='softmax')\n",
        "  ])\n",
        "\n",
        "model.layers[0].trainable = True\n",
        "\n",
        "model.compile(  loss=tf.keras.losses.SparseCategoricalCrossentropy(from_logits=False),\n",
        "                optimizer=tf.keras.optimizers.Adam(0.001),\n",
        "                metrics=['accuracy'])"
      ]
    },
    {
      "cell_type": "code",
      "execution_count": null,
      "id": "0da6db76-7ca6-47d5-bc85-7b47f7fc9cde",
      "metadata": {
        "id": "0da6db76-7ca6-47d5-bc85-7b47f7fc9cde",
        "outputId": "f0becb7b-fae5-4d3a-b9e0-39c836e5b1e3"
      },
      "outputs": [
        {
          "name": "stdout",
          "output_type": "stream",
          "text": [
            "Model: \"sequential_1\"\n",
            "_________________________________________________________________\n",
            " Layer (type)                Output Shape              Param #   \n",
            "=================================================================\n",
            " vgg16 (Functional)          (None, 512)               14714688  \n",
            "                                                                 \n",
            " flatten_1 (Flatten)         (None, 512)               0         \n",
            "                                                                 \n",
            " dense_3 (Dense)             (None, 2048)              1050624   \n",
            "                                                                 \n",
            " dropout_2 (Dropout)         (None, 2048)              0         \n",
            "                                                                 \n",
            " batch_normalization_2 (Batc  (None, 2048)             8192      \n",
            " hNormalization)                                                 \n",
            "                                                                 \n",
            " dense_4 (Dense)             (None, 1024)              2098176   \n",
            "                                                                 \n",
            " dropout_3 (Dropout)         (None, 1024)              0         \n",
            "                                                                 \n",
            " batch_normalization_3 (Batc  (None, 1024)             4096      \n",
            " hNormalization)                                                 \n",
            "                                                                 \n",
            " dense_5 (Dense)             (None, 5)                 5125      \n",
            "                                                                 \n",
            "=================================================================\n",
            "Total params: 17,880,901\n",
            "Trainable params: 17,874,757\n",
            "Non-trainable params: 6,144\n",
            "_________________________________________________________________\n"
          ]
        }
      ],
      "source": [
        "model.summary()"
      ]
    },
    {
      "cell_type": "code",
      "execution_count": null,
      "id": "3cc60121-4b05-4ed6-8c66-17617097e772",
      "metadata": {
        "id": "3cc60121-4b05-4ed6-8c66-17617097e772",
        "outputId": "c9d7bdd5-cb85-4b00-c335-cb3addcaf4b0"
      },
      "outputs": [
        {
          "name": "stdout",
          "output_type": "stream",
          "text": [
            "Epoch 1/100\n",
            "759/759 [==============================] - 27s 34ms/step - loss: 1.8552 - accuracy: 0.2468 - val_loss: 35.5399 - val_accuracy: 0.2077\n",
            "Epoch 2/100\n",
            "759/759 [==============================] - 26s 34ms/step - loss: 1.5038 - accuracy: 0.3598 - val_loss: 1.8384 - val_accuracy: 0.3508\n",
            "Epoch 3/100\n",
            "759/759 [==============================] - 26s 34ms/step - loss: 1.2678 - accuracy: 0.4587 - val_loss: 1.9763 - val_accuracy: 0.4105\n",
            "Epoch 4/100\n",
            "759/759 [==============================] - 26s 34ms/step - loss: 1.1636 - accuracy: 0.4972 - val_loss: 1.3533 - val_accuracy: 0.4318\n",
            "Epoch 5/100\n",
            "759/759 [==============================] - 26s 34ms/step - loss: 1.0954 - accuracy: 0.5267 - val_loss: 15.3159 - val_accuracy: 0.5365\n",
            "Epoch 6/100\n",
            "759/759 [==============================] - 26s 34ms/step - loss: 1.0342 - accuracy: 0.5548 - val_loss: 1.0450 - val_accuracy: 0.5378\n",
            "Epoch 7/100\n",
            "759/759 [==============================] - 26s 34ms/step - loss: 0.9942 - accuracy: 0.5787 - val_loss: 1.0623 - val_accuracy: 0.5684\n",
            "Epoch 8/100\n",
            "759/759 [==============================] - 26s 34ms/step - loss: 0.9599 - accuracy: 0.5981 - val_loss: 1.0180 - val_accuracy: 0.5884\n",
            "Epoch 9/100\n",
            "759/759 [==============================] - 25s 34ms/step - loss: 0.9074 - accuracy: 0.6241 - val_loss: 9325.0859 - val_accuracy: 0.5317\n",
            "Epoch 10/100\n",
            "759/759 [==============================] - 26s 34ms/step - loss: 0.8444 - accuracy: 0.6574 - val_loss: 36370.2148 - val_accuracy: 0.5297\n",
            "Epoch 11/100\n",
            "759/759 [==============================] - 26s 34ms/step - loss: 0.7947 - accuracy: 0.6809 - val_loss: 8028.6440 - val_accuracy: 0.5860\n"
          ]
        }
      ],
      "source": [
        "history = model.fit(train_dataset,batch_size = 10, epochs=100, validation_data=valid_dataset, callbacks=[callback,callback2])"
      ]
    },
    {
      "cell_type": "code",
      "execution_count": null,
      "id": "72f94a8c-9ac4-43b0-9428-28a1fe28c241",
      "metadata": {
        "id": "72f94a8c-9ac4-43b0-9428-28a1fe28c241",
        "outputId": "501613bb-95aa-437c-edd1-38fb48b22157"
      },
      "outputs": [
        {
          "data": {
            "image/png": "[encoded data removed]",
            "text/plain": [
              "<Figure size 720x360 with 1 Axes>"
            ]
          },
          "metadata": {
            "needs_background": "light"
          },
          "output_type": "display_data"
        }
      ],
      "source": [
        "plt.figure(figsize=(10, 5))\n",
        "plt.plot(history.history['loss'], label = \"training loss\")\n",
        "plt.plot(history.history['val_loss'], label = \"validation loss\")\n",
        "plt.title('Model loss')\n",
        "plt.ylabel('Loss')\n",
        "plt.xlabel('Epoch')\n",
        "plt.xticks(np.arange(len(history.history['accuracy'])), np.arange(1, len(history.history['accuracy'])+1))\n",
        "plt.legend()\n",
        "plt.show()"
      ]
    },
    {
      "cell_type": "code",
      "execution_count": null,
      "id": "c979e298-0586-49c2-9c0a-549e758422a9",
      "metadata": {
        "id": "c979e298-0586-49c2-9c0a-549e758422a9",
        "outputId": "e64cf021-aece-4753-9d70-3591e2a045ac"
      },
      "outputs": [
        {
          "data": {
            "image/png": "[encoded data removed]",
            "text/plain": [
              "<Figure size 720x360 with 1 Axes>"
            ]
          },
          "metadata": {
            "needs_background": "light"
          },
          "output_type": "display_data"
        }
      ],
      "source": [
        "plt.figure(figsize=(10, 5))\n",
        "plt.plot(history.history['accuracy'], label = \"training accuracy\")\n",
        "plt.plot(history.history['val_accuracy'], label = \"validation accuracy\")\n",
        "plt.title('Model accuracy')\n",
        "plt.ylabel('Accuracy')\n",
        "plt.xlabel('Epoch')\n",
        "plt.xticks(np.arange(len(history.history['accuracy'])), np.arange(1, len(history.history['accuracy'])+1))\n",
        "plt.legend()\n",
        "plt.show()"
      ]
    },
    {
      "cell_type": "code",
      "execution_count": null,
      "id": "1bda7ea9-677a-4ec0-8eb5-9e7edb0a55c3",
      "metadata": {
        "id": "1bda7ea9-677a-4ec0-8eb5-9e7edb0a55c3"
      },
      "outputs": [],
      "source": []
    }
  ],
  "metadata": {
    "kernelspec": {
      "display_name": "gpu2",
      "language": "python",
      "name": "gpu2"
    },
    "language_info": {
      "codemirror_mode": {
        "name": "ipython",
        "version": 3
      },
      "file_extension": ".py",
      "mimetype": "text/x-python",
      "name": "python",
      "nbconvert_exporter": "python",
      "pygments_lexer": "ipython3",
      "version": "3.10.8"
    },
    "colab": {
      "provenance": []
    }
  },
  "nbformat": 4,
  "nbformat_minor": 5
}